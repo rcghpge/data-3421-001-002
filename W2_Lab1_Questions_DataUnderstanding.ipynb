{
  "cells": [
    {
      "cell_type": "markdown",
      "source": [
        "# **W2-Lab1.Questions-DataUnderstanding.ipynb**"
      ],
      "metadata": {
        "id": "GCuSesa7f0Bl"
      },
      "id": "GCuSesa7f0Bl"
    },
    {
      "cell_type": "markdown",
      "id": "b3690c20",
      "metadata": {
        "id": "b3690c20"
      },
      "source": [
        "# Question 1: Data Understanding"
      ]
    },
    {
      "cell_type": "markdown",
      "id": "1acac707",
      "metadata": {
        "id": "1acac707"
      },
      "source": [
        "### Task:\n",
        "Print the data types of each column and use descriptive statistics to understand the data."
      ]
    },
    {
      "cell_type": "code",
      "execution_count": null,
      "id": "2a742e02",
      "metadata": {
        "id": "2a742e02"
      },
      "outputs": [],
      "source": [
        "\n",
        "\n",
        "\n",
        "\n",
        "\n",
        "\n",
        "\n",
        "\n",
        "\n",
        "\n",
        "\n",
        "\n"
      ]
    },
    {
      "cell_type": "markdown",
      "id": "0d80a03c",
      "metadata": {
        "id": "0d80a03c"
      },
      "source": [
        "# Question 2: Identifying and Handling Missing Values"
      ]
    },
    {
      "cell_type": "markdown",
      "id": "4560cd7e",
      "metadata": {
        "id": "4560cd7e"
      },
      "source": [
        "### Task:\n",
        "Identify missing values in the dataset and propose methods to handle them."
      ]
    },
    {
      "cell_type": "code",
      "execution_count": null,
      "id": "f81e9358",
      "metadata": {
        "id": "f81e9358"
      },
      "outputs": [],
      "source": [
        "\n",
        "\n",
        "\n",
        "\n",
        "\n",
        "\n",
        "\n",
        "\n",
        "\n",
        "\n",
        "\n",
        "\n",
        "\n",
        "\n"
      ]
    },
    {
      "cell_type": "markdown",
      "id": "85c95276",
      "metadata": {
        "id": "85c95276"
      },
      "source": [
        "# Question 3: Detecting and Correcting Invalid Entries"
      ]
    },
    {
      "cell_type": "markdown",
      "id": "776598d4",
      "metadata": {
        "id": "776598d4"
      },
      "source": [
        "### Task:\n",
        "Identify and correct invalid entries in the dataset."
      ]
    },
    {
      "cell_type": "code",
      "execution_count": null,
      "id": "297a64f5",
      "metadata": {
        "id": "297a64f5"
      },
      "outputs": [],
      "source": [
        "\n",
        "\n",
        "\n",
        "\n",
        "\n",
        "\n",
        "\n",
        "\n",
        "\n",
        "\n",
        "\n",
        "\n",
        "\n",
        "\n",
        "\n"
      ]
    },
    {
      "cell_type": "markdown",
      "id": "edef0b75",
      "metadata": {
        "id": "edef0b75"
      },
      "source": [
        "# Question 4: Addressing Duplicate Records"
      ]
    },
    {
      "cell_type": "markdown",
      "id": "380c8f04",
      "metadata": {
        "id": "380c8f04"
      },
      "source": [
        "### Task:\n",
        "Identify and remove duplicate records from the dataset."
      ]
    },
    {
      "cell_type": "code",
      "execution_count": null,
      "id": "41d53e65",
      "metadata": {
        "id": "41d53e65"
      },
      "outputs": [],
      "source": [
        "\n",
        "\n",
        "\n",
        "\n",
        "\n",
        "\n",
        "\n",
        "\n",
        "\n",
        "\n",
        "\n",
        "\n",
        "\n",
        "\n",
        "\n",
        "\n",
        "\n"
      ]
    },
    {
      "cell_type": "markdown",
      "id": "0cc7f709",
      "metadata": {
        "id": "0cc7f709"
      },
      "source": [
        "# Question 5: Data Range Issues"
      ]
    },
    {
      "cell_type": "markdown",
      "id": "9d23d2d0",
      "metadata": {
        "id": "9d23d2d0"
      },
      "source": [
        "### Task:\n",
        "Identify and address any data range issues."
      ]
    },
    {
      "cell_type": "code",
      "execution_count": null,
      "id": "b3931874",
      "metadata": {
        "id": "b3931874"
      },
      "outputs": [],
      "source": [
        "\n",
        "\n",
        "\n",
        "\n",
        "\n",
        "\n",
        "\n",
        "\n",
        "\n",
        "\n",
        "\n",
        "\n",
        "\n",
        "\n",
        "\n",
        "\n",
        "\n",
        "\n",
        "\n"
      ]
    },
    {
      "cell_type": "markdown",
      "id": "28cc35e0",
      "metadata": {
        "id": "28cc35e0"
      },
      "source": [
        "# Question 6: Format Inconsistencies"
      ]
    },
    {
      "cell_type": "markdown",
      "id": "ed94532e",
      "metadata": {
        "id": "ed94532e"
      },
      "source": [
        "### Task:\n",
        "Identify and correct any format inconsistencies in the dataset."
      ]
    },
    {
      "cell_type": "code",
      "execution_count": null,
      "id": "da05c9d2",
      "metadata": {
        "id": "da05c9d2"
      },
      "outputs": [],
      "source": [
        "\n",
        "\n",
        "\n",
        "\n",
        "\n",
        "\n",
        "\n",
        "\n",
        "\n",
        "\n",
        "\n",
        "\n",
        "\n",
        "\n",
        "\n"
      ]
    },
    {
      "cell_type": "markdown",
      "id": "489dc8f4",
      "metadata": {
        "id": "489dc8f4"
      },
      "source": [
        "# Question 7: Misclassified Data"
      ]
    },
    {
      "cell_type": "markdown",
      "id": "6559df51",
      "metadata": {
        "id": "6559df51"
      },
      "source": [
        "### Task:\n",
        "Detect and correct any misclassified data within the dataset."
      ]
    },
    {
      "cell_type": "code",
      "execution_count": null,
      "id": "1124b197",
      "metadata": {
        "id": "1124b197"
      },
      "outputs": [],
      "source": [
        "\n",
        "\n",
        "\n",
        "\n",
        "\n",
        "\n",
        "\n",
        "\n",
        "\n",
        "\n",
        "\n",
        "\n",
        "\n",
        "\n",
        "\n",
        "\n",
        "\n"
      ]
    },
    {
      "cell_type": "markdown",
      "id": "4fb6aa93",
      "metadata": {
        "id": "4fb6aa93"
      },
      "source": [
        "# Question 8: Data Visualization"
      ]
    },
    {
      "cell_type": "markdown",
      "id": "539ddb81",
      "metadata": {
        "id": "539ddb81"
      },
      "source": [
        "### Task:\n",
        "Use visualizations to identify patterns, inconsistencies, or outliers in the dataset."
      ]
    },
    {
      "cell_type": "code",
      "execution_count": null,
      "id": "eee4dbec",
      "metadata": {
        "id": "eee4dbec"
      },
      "outputs": [],
      "source": [
        "\n",
        "\n",
        "\n",
        "\n",
        "\n",
        "\n",
        "\n",
        "\n",
        "\n",
        "\n",
        "\n",
        "\n",
        "\n",
        "\n",
        "\n",
        "\n"
      ]
    }
  ],
  "metadata": {
    "colab": {
      "provenance": []
    },
    "language_info": {
      "name": "python"
    },
    "kernelspec": {
      "name": "python3",
      "display_name": "Python 3"
    }
  },
  "nbformat": 4,
  "nbformat_minor": 5
}